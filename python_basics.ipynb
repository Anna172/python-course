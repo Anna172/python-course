{
 "cells": [
  {
   "cell_type": "markdown",
   "metadata": {},
   "source": [
    "# Основы языка python"
   ]
  },
  {
   "cell_type": "markdown",
   "metadata": {},
   "source": [
    "## 1. комментарии"
   ]
  },
  {
   "cell_type": "code",
   "execution_count": null,
   "metadata": {
    "collapsed": true
   },
   "outputs": [],
   "source": [
    "# Однострочные комментарии начинаются с символа решётки.\n",
    "\"\"\" Многострочный текст может быть \n",
    "    записан, используя 3 знака \" и обычно используется\n",
    "    в качестве встроенной документации\n",
    "\"\"\""
   ]
  },
  {
   "cell_type": "markdown",
   "metadata": {},
   "source": [
    "## 2. Примитивные типы данных и операторы"
   ]
  },
  {
   "cell_type": "markdown",
   "metadata": {},
   "source": [
    "### 2.1 Числа"
   ]
  },
  {
   "cell_type": "markdown",
   "metadata": {},
   "source": [
    "Числа в Python бывают разные:\n",
    "\n",
    "* Целые числа (int): 122, -4, 99999999999, 0o177, 0x9ff, 0b101010\n",
    "* Вещественные числа (float): 1.0, 3.14, .5, 4E21, 4.0e21\n",
    "* Комплексные числа (complex): 3 + 4j, 3.0 + 4.0j,\n",
    "* Числа фиксированной точности% decimal.Decimal('0.1')\n",
    "* Рациональные числа: fractions.Fraction(3, 4)"
   ]
  },
  {
   "cell_type": "markdown",
   "metadata": {},
   "source": [
    "#### Операции с целыми и вещественными числами"
   ]
  },
  {
   "cell_type": "markdown",
   "metadata": {},
   "source": [
    "<img src=\"./img/operations.png\" height=\"1201\" width=\"681\">"
   ]
  }
 ],
 "metadata": {
  "kernelspec": {
   "display_name": "Python 3",
   "language": "python",
   "name": "python3"
  },
  "language_info": {
   "codemirror_mode": {
    "name": "ipython",
    "version": 3
   },
   "file_extension": ".py",
   "mimetype": "text/x-python",
   "name": "python",
   "nbconvert_exporter": "python",
   "pygments_lexer": "ipython3",
   "version": "3.6.0"
  }
 },
 "nbformat": 4,
 "nbformat_minor": 2
}
