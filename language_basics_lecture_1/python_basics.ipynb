{
 "cells": [
  {
   "cell_type": "markdown",
   "metadata": {},
   "source": [
    "# Основы языка python"
   ]
  },
  {
   "cell_type": "markdown",
   "metadata": {},
   "source": [
    "## 1. комментарии"
   ]
  },
  {
   "cell_type": "code",
   "execution_count": null,
   "metadata": {
    "collapsed": true
   },
   "outputs": [],
   "source": [
    "# Однострочные комментарии начинаются с символа решётки.\n",
    "\"\"\" Многострочный текст может быть \n",
    "    записан, используя 3 знака \" и обычно используется\n",
    "    в качестве встроенной документации\n",
    "\"\"\""
   ]
  },
  {
   "cell_type": "markdown",
   "metadata": {},
   "source": [
    "## 2. Примитивные типы данных и операторы"
   ]
  },
  {
   "cell_type": "markdown",
   "metadata": {},
   "source": [
    "### 2.1 Числа"
   ]
  },
  {
   "cell_type": "markdown",
   "metadata": {},
   "source": [
    "Числа в Python бывают разные:\n",
    "\n",
    "* Целые числа (int): 122, -4, 99999999999, 0o177, 0x9ff, 0b101010\n",
    "* Вещественные числа (float): 1.0, 3.14, .5, 4E21, 4.0e21\n",
    "* Комплексные числа (complex): 3 + 4j, 3.0 + 4.0j,\n",
    "* Числа фиксированной точности% decimal.Decimal('0.1')\n",
    "* Рациональные числа: fractions.Fraction(3, 4)"
   ]
  },
  {
   "cell_type": "markdown",
   "metadata": {},
   "source": [
    "#### Операции с целыми и вещественными числами"
   ]
  },
  {
   "cell_type": "markdown",
   "metadata": {},
   "source": [
    "<img src=\"../img/operations.png\" height=\"1201\" width=\"681\">"
   ]
  },
  {
   "cell_type": "markdown",
   "metadata": {},
   "source": [
    "#### Целые числа"
   ]
  },
  {
   "cell_type": "code",
   "execution_count": null,
   "metadata": {
    "collapsed": true
   },
   "outputs": [],
   "source": [
    "# Операции сложения, вычитания, умножение возвращают целые числа\n",
    "1 + 1 #=> 2\n",
    "8 - 1 #=> 7\n",
    "10 * 2 #=> 20\n",
    "\n",
    "# Кроме деления, которое по умолчанию возвращает число с плавающей запятой\n",
    "35 / 5  # => 7.0\n",
    "\n",
    "# Результат целочисленного деления округляется в меньшую сторону\n",
    "# как для положительных, так и для отрицательных чисел.\n",
    "5 // 3     # => 1\n",
    "5.0 // 3.0 # => 1.0 # работает и для чисел с плавающей запятой\n",
    "-5 // 3  # => -2\n",
    "-5.0 // 3.0 # => -2.0\n",
    "\n",
    "# Когда вы используете числа с плавающей запятой, \n",
    "# результатом будет также число с плавающей запятой\n",
    "3 * 2.0 # => 6.0\n",
    "\n",
    "# Остаток от деления\n",
    "7 % 3 # => 1\n",
    "\n",
    "# Возведение в степень\n",
    "2**4 # => 16\n",
    "\n",
    "# Приоритет операций указывается скобками\n",
    "(1 + 3) * 2 #=> 8"
   ]
  },
  {
   "cell_type": "markdown",
   "metadata": {},
   "source": [
    "#### Вещественные числа"
   ]
  },
  {
   "cell_type": "code",
   "execution_count": null,
   "metadata": {
    "collapsed": true
   },
   "outputs": [],
   "source": [
    "print(.1 + .1)"
   ]
  },
  {
   "cell_type": "markdown",
   "metadata": {},
   "source": [
    "#### Комплексные числа"
   ]
  },
  {
   "cell_type": "code",
   "execution_count": null,
   "metadata": {
    "collapsed": true
   },
   "outputs": [],
   "source": [
    "print(\"|{0}| = {1}\".format(complex(2, 3), abs(complex(2, 3))))\n",
    "print(\"{0} * {1} = {2}\".format(complex(1, 1), complex(2, 3), complex(1, 1) * complex(2, 3)))"
   ]
  },
  {
   "cell_type": "code",
   "execution_count": null,
   "metadata": {
    "collapsed": true
   },
   "outputs": [],
   "source": [
    "(1 + 2j) * (3+4j)"
   ]
  },
  {
   "cell_type": "markdown",
   "metadata": {},
   "source": [
    "#### Числа фиксированной точности и рациональные числа"
   ]
  },
  {
   "cell_type": "markdown",
   "metadata": {},
   "source": [
    "Для решения проблем, связанных с точностью представления простых вещественных чисел введены вещественные числа с фиксированной точностью и рациональные числа (числа, представленные дробью, то есть парой целых чисел – числителем и знаменателем).\n"
   ]
  },
  {
   "cell_type": "code",
   "execution_count": 1,
   "metadata": {
    "collapsed": false
   },
   "outputs": [
    {
     "name": "stdout",
     "output_type": "stream",
     "text": [
      "0.3666666666666667\n"
     ]
    },
    {
     "data": {
      "text/plain": [
       "True"
      ]
     },
     "execution_count": 1,
     "metadata": {},
     "output_type": "execute_result"
    }
   ],
   "source": [
    "print(1.1/3)\n",
    "from decimal import Decimal\n",
    "from decimal import getcontext\n",
    "getcontext().prec = 3\n",
    "Decimal('4') / 3 == Decimal('1.33')"
   ]
  },
  {
   "cell_type": "code",
   "execution_count": null,
   "metadata": {
    "collapsed": true
   },
   "outputs": [],
   "source": []
  }
 ],
 "metadata": {
  "kernelspec": {
   "display_name": "Python 3",
   "language": "python",
   "name": "python3"
  },
  "language_info": {
   "codemirror_mode": {
    "name": "ipython",
    "version": 3
   },
   "file_extension": ".py",
   "mimetype": "text/x-python",
   "name": "python",
   "nbconvert_exporter": "python",
   "pygments_lexer": "ipython3",
   "version": "3.6.0"
  }
 },
 "nbformat": 4,
 "nbformat_minor": 2
}
